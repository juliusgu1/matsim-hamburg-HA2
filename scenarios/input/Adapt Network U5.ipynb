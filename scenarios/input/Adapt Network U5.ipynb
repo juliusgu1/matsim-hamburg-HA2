{
 "cells": [
  {
   "cell_type": "code",
   "execution_count": 26,
   "id": "05827a35-4488-456b-9cc3-c8da16e5bd71",
   "metadata": {
    "tags": []
   },
   "outputs": [
    {
     "name": "stdout",
     "output_type": "stream",
     "text": [
      "Nodes XML wurde erfolgreich unter C:\\Users\\Julius Guizetti\\IdeaProjects\\matsim-hamburg-HA2\\scenarios\\input\\adapt_network.xml gespeichert.\n"
     ]
    }
   ],
   "source": [
    "# CREATE NODES\n",
    "\n",
    "import pandas as pd\n",
    "\n",
    "# CSV-Datei laden\n",
    "csv_path = r'C:\\Users\\Julius Guizetti\\IdeaProjects\\matsim-hamburg-HA2\\scenarios\\input\\stationen_ba.csv'  # Pfad zur CSV-Datei anpassen\n",
    "df = pd.read_csv(csv_path, sep=';')\n",
    "\n",
    "# Neue XML-Datei erstellen\n",
    "output_path = r'C:\\Users\\Julius Guizetti\\IdeaProjects\\matsim-hamburg-HA2\\scenarios\\input\\adapt_network_TEST.xml'  # Pfad zur Ausgabedatei anpassen\n",
    "\n",
    "# XML-Datei schreiben\n",
    "with open(output_path, 'w', encoding='utf-8') as f:\n",
    "    f.write('<network>\\n')\n",
    "    f.write('    <nodes>\\n')\n",
    "    for _, row in df.iterrows():\n",
    "        f.write(f'        <node id=\"{row[\"NodeID\"]}\" x=\"{row[\"x\"]}\" y=\"{row[\"y\"]}\">\\n')\n",
    "        f.write('        </node>\\n')\n",
    "    f.write('    </nodes>\\n')\n",
    "    f.write('</network>\\n')\n",
    "\n",
    "print(f\"Nodes XML wurde erfolgreich unter {output_path} gespeichert.\")\n"
   ]
  },
  {
   "cell_type": "code",
   "execution_count": 3,
   "id": "23c20269-105a-48ff-9d24-1328a603c0f4",
   "metadata": {
    "tags": []
   },
   "outputs": [
    {
     "name": "stdout",
     "output_type": "stream",
     "text": [
      "Updated network XML wurde erfolgreich unter C:\\Users\\Julius Guizetti\\IdeaProjects\\matsim-hamburg-HA2.1\\scenarios\\input\\adapt_network_V2.xml gespeichert.\n"
     ]
    }
   ],
   "source": [
    "import pandas as pd\n",
    "import xml.etree.ElementTree as ET\n",
    "\n",
    "# Bestehendes XML-Dokument laden\n",
    "input_path = r'C:\\Users\\Julius Guizetti\\IdeaProjects\\matsim-hamburg-HA2.1\\scenarios\\input\\adapt_network.xml'  # Pfad zur bestehenden XML-Datei anpassen\n",
    "tree = ET.parse(input_path)\n",
    "root = tree.getroot()\n",
    "\n",
    "# CSV-Dateien laden\n",
    "csv_path_ba = r'C:\\Users\\Julius Guizetti\\IdeaProjects\\matsim-hamburg-HA2.1\\scenarios\\input\\stationen_ba.csv'  # Pfad zur CSV-Datei anpassen\n",
    "df_ba = pd.read_csv(csv_path_ba, sep=';')\n",
    "\n",
    "csv_path_ab = r'C:\\Users\\Julius Guizetti\\IdeaProjects\\matsim-hamburg-HA2.1\\scenarios\\input\\stationen_ab.csv'  # Pfad zur CSV-Datei anpassen\n",
    "df_ab = pd.read_csv(csv_path_ab, sep=';')\n",
    "\n",
    "# Links-Element hinzufügen, falls nicht vorhanden\n",
    "links_element = root.find('links')\n",
    "if links_element is None:\n",
    "    links_element = ET.SubElement(root, 'links')\n",
    "\n",
    "# Funktion zum Erstellen von Links\n",
    "def create_links(df, direction):\n",
    "    for i in range(len(df)):\n",
    "        # Link von einem Node zu sich selbst\n",
    "        row = df.iloc[i]\n",
    "        ET.SubElement(links_element, 'link', \n",
    "                      id=row['LinkID'], \n",
    "                      from_=row['NodeID'], \n",
    "                      to=row['NodeID'],\n",
    "                      length=\"10.0\",\n",
    "                      freespeed=\"100\",\n",
    "                      capacity=\"10000\",\n",
    "                      permlanes=\"1.0\",\n",
    "                      oneway=\"1\",\n",
    "                      modes=\"pt\")\n",
    "        \n",
    "        # Link zum darauffolgenden Node, falls vorhanden\n",
    "        if i < len(df) - 1:\n",
    "            from_node = df.iloc[i]['NodeID']\n",
    "            to_node = df.iloc[i + 1]['NodeID']\n",
    "            link_id = f\"{direction}-{from_node}_to_{to_node}\"\n",
    "            ET.SubElement(links_element, 'link', \n",
    "                          id=link_id, \n",
    "                          from_=from_node,\n",
    "                          to=to_node,\n",
    "                          length = str(df.iloc[i]['distanceToNextNode']),\n",
    "                          freespeed=\"100\",\n",
    "                          capacity=\"10000\",\n",
    "                          permlanes=\"1.0\",\n",
    "                          oneway=\"1\",\n",
    "                          modes=\"pt\")\n",
    "\n",
    "# Links für beide CSV-Dateien erstellen\n",
    "create_links(df_ba, \"BA\")\n",
    "create_links(df_ab, \"AB\")\n",
    "\n",
    "# Funktion zum Formatieren des XML-Dokuments\n",
    "def format_xml(element, level=0):\n",
    "    indent = \"    \"\n",
    "    if len(element):\n",
    "        if not element.text or not element.text.strip():\n",
    "            element.text = \"\\n\" + indent * (level + 1)\n",
    "        if not element.tail or not element.tail.strip():\n",
    "            element.tail = \"\\n\" + indent * level\n",
    "        for elem in element:\n",
    "            format_xml(elem, level + 1)\n",
    "        if not element.tail or not element.tail.strip():\n",
    "            element.tail = \"\\n\" + indent * level\n",
    "    else:\n",
    "        if level and (not element.tail or not element.tail.strip()):\n",
    "            element.tail = \"\\n\" + indent * level\n",
    "\n",
    "# XML-Dokument formatieren\n",
    "format_xml(root)\n",
    "\n",
    "# Geänderte XML-Datei speichern\n",
    "output_path = r'C:\\Users\\Julius Guizetti\\IdeaProjects\\matsim-hamburg-HA2.1\\scenarios\\input\\adapt_network_V2.xml'  # Pfad zur Ausgabedatei anpassen\n",
    "tree.write(output_path, encoding='utf-8', xml_declaration=True)\n",
    "\n",
    "print(f\"Updated network XML wurde erfolgreich unter {output_path} gespeichert.\")\n"
   ]
  },
  {
   "cell_type": "code",
   "execution_count": null,
   "id": "297fcf42-8a71-4bf8-b91b-cc879685c05d",
   "metadata": {},
   "outputs": [],
   "source": []
  }
 ],
 "metadata": {
  "kernelspec": {
   "display_name": "Python 3 (ipykernel)",
   "language": "python",
   "name": "python3"
  },
  "language_info": {
   "codemirror_mode": {
    "name": "ipython",
    "version": 3
   },
   "file_extension": ".py",
   "mimetype": "text/x-python",
   "name": "python",
   "nbconvert_exporter": "python",
   "pygments_lexer": "ipython3",
   "version": "3.11.5"
  }
 },
 "nbformat": 4,
 "nbformat_minor": 5
}
