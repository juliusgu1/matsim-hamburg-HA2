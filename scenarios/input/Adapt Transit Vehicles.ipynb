{
 "cells": [
  {
   "cell_type": "code",
   "execution_count": 3,
   "id": "1d986557-cd38-4c71-bde0-756c08f27a3a",
   "metadata": {
    "tags": []
   },
   "outputs": [
    {
     "name": "stdout",
     "output_type": "stream",
     "text": [
      "Die Transit Vehicles XML-Datei wurde erstellt und gespeichert.\n"
     ]
    }
   ],
   "source": [
    "import xml.etree.ElementTree as ET\n",
    "\n",
    "# Wurzelelement erstellen\n",
    "transit_vehicles = ET.Element('transitVehicles')\n",
    "\n",
    "# Funktion zum Erstellen von Fahrzeugen\n",
    "def create_vehicles(prefix, count, start_number):\n",
    "    for i in range(count):\n",
    "        vehicle_id = f\"{prefix}{str(i + start_number).zfill(3)}\"\n",
    "        vehicle = ET.SubElement(transit_vehicles, 'vehicle')\n",
    "        vehicle.set('id', vehicle_id)\n",
    "        vehicle.set('type', 'U5_Vehicle')\n",
    "\n",
    "# Fahrzeuge erstellen\n",
    "create_vehicles('AB_U5_Veh_', 716, 1)\n",
    "create_vehicles('BA_U5_Veh_', 716, 1)\n",
    "\n",
    "# Formatieren der XML-Ausgabe\n",
    "def format_xml(element, level=0):\n",
    "    indent = \"    \"\n",
    "    if len(element):\n",
    "        if not element.text or not element.text.strip():\n",
    "            element.text = \"\\n\" + indent * (level + 1)\n",
    "        if not element.tail or not element.tail.strip():\n",
    "            element.tail = \"\\n\" + indent * level\n",
    "        for elem in element:\n",
    "            format_xml(elem, level + 1)\n",
    "        if not element.tail or not element.tail.strip():\n",
    "            element.tail = \"\\n\" + indent * level\n",
    "    else:\n",
    "        if level and (not element.tail or not element.tail.strip()):\n",
    "            element.tail = \"\\n\" + indent * level\n",
    "\n",
    "# XML-Dokument formatieren\n",
    "format_xml(transit_vehicles)\n",
    "\n",
    "# XML-Dokument in eine Datei schreiben\n",
    "tree = ET.ElementTree(transit_vehicles)\n",
    "tree.write('adapt_transit_vehicles.xml', encoding='utf-8', xml_declaration=True)\n",
    "\n",
    "print(\"Die Transit Vehicles XML-Datei wurde erstellt und gespeichert.\")\n"
   ]
  },
  {
   "cell_type": "code",
   "execution_count": null,
   "id": "2eec1729-7f53-4f71-9bb4-cbffee616e6f",
   "metadata": {},
   "outputs": [],
   "source": []
  }
 ],
 "metadata": {
  "kernelspec": {
   "display_name": "Python 3 (ipykernel)",
   "language": "python",
   "name": "python3"
  },
  "language_info": {
   "codemirror_mode": {
    "name": "ipython",
    "version": 3
   },
   "file_extension": ".py",
   "mimetype": "text/x-python",
   "name": "python",
   "nbconvert_exporter": "python",
   "pygments_lexer": "ipython3",
   "version": "3.11.5"
  }
 },
 "nbformat": 4,
 "nbformat_minor": 5
}
