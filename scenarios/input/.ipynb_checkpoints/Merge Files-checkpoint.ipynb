{
 "cells": [
  {
   "cell_type": "code",
   "execution_count": null,
   "id": "04a6134e-f737-412c-a25a-6ca175fca59b",
   "metadata": {},
   "outputs": [],
   "source": [
    "existing_schedule_file = r'C:\\Users\\Julius Guizetti\\Desktop\\UNI\\Master\\MATSim\\HA 2\\hamburg-v3.0-transitSchedule.xml'\n",
    "new_schedule_file = r'C:\\Users\\Julius Guizetti\\IdeaProjects\\matsim-hamburg-HA2\\scenarios\\input\\adapt_transitSchedule_with_departures.xml'\n",
    "merged_schedule_file = r'C:\\Users\\Julius Guizetti\\IdeaProjects\\matsim-hamburg-HA2\\scenarios\\input\\Merged_Files\\merged_schedule_file.xml'"
   ]
  },
  {
   "cell_type": "code",
   "execution_count": null,
   "id": "f9846ae3-c542-4e1a-96d1-6d2657bd5b6f",
   "metadata": {},
   "outputs": [],
   "source": [
    "# MERGE SCHEDULES\n",
    "import xml.etree.ElementTree as ET\n",
    "\n",
    "# Function to check for duplicates based on a specific attribute ID\n",
    "def check_duplicates(existing_elements, new_elements, attribute):\n",
    "    existing_ids = {elem.get(attribute) for elem in existing_elements}\n",
    "    for elem in new_elements:\n",
    "        if elem.get(attribute) in existing_ids:\n",
    "            raise ValueError(f\"Duplicate element with {attribute}='{elem.get(attribute)}' found.\")\n",
    "\n",
    "# Function to merge schedule files\n",
    "def merge_schedule_files(existing_file, new_file):\n",
    "    existing_tree = ET.parse(existing_file)\n",
    "    existing_root = existing_tree.getroot()\n",
    "    new_tree = ET.parse(new_file)\n",
    "    new_root = new_tree.getroot()\n",
    "\n",
    "    existing_stops = existing_root.find('transitStops')\n",
    "    new_stops = new_root.find('transitStops')\n",
    "    existing_lines = existing_root.findall('transitLine')\n",
    "    new_lines = new_root.findall('transitLine')\n",
    "\n",
    "    if new_stops is None or new_lines is None:\n",
    "        raise ValueError(\"New file does not contain required elements: transitStops or transitLine\")\n",
    "\n",
    "    check_duplicates(existing_stops.findall('stopFacility'), new_stops.findall('stopFacility'), 'id')\n",
    "    check_duplicates(existing_lines, new_lines, 'id')\n",
    "\n",
    "    for stop in new_stops:\n",
    "        existing_stops.append(stop)\n",
    "    for line in new_lines:\n",
    "        existing_root.append(line)\n",
    "\n",
    "    return existing_tree\n",
    "\n",
    "# Function to save merged file\n",
    "def save_merged_file(tree, output_file):\n",
    "    tree.write(output_file, encoding='utf-8', xml_declaration=True)\n",
    "\n",
    "\n",
    "\n",
    "# Merge schedule files\n",
    "merged_schedule_tree = merge_schedule_files(existing_schedule_file, new_schedule_file)\n",
    "\n",
    "# Save merged schedule file\n",
    "save_merged_file(merged_schedule_tree, merged_schedule_file)\n"
   ]
  }
 ],
 "metadata": {
  "kernelspec": {
   "display_name": "Python 3 (ipykernel)",
   "language": "python",
   "name": "python3"
  },
  "language_info": {
   "codemirror_mode": {
    "name": "ipython",
    "version": 3
   },
   "file_extension": ".py",
   "mimetype": "text/x-python",
   "name": "python",
   "nbconvert_exporter": "python",
   "pygments_lexer": "ipython3",
   "version": "3.11.5"
  }
 },
 "nbformat": 4,
 "nbformat_minor": 5
}
