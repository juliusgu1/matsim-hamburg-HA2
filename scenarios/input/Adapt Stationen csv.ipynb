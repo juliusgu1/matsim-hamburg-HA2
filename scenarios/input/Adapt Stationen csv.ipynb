{
 "cells": [
  {
   "cell_type": "code",
   "execution_count": 8,
   "id": "ed24a0d4-d581-40b2-bb16-950a952c02c5",
   "metadata": {
    "tags": []
   },
   "outputs": [
    {
     "name": "stdout",
     "output_type": "stream",
     "text": [
      "Distanzen berechnet und in die Spalte 'distanceToNextNode' geschrieben.\n"
     ]
    }
   ],
   "source": [
    "import pandas as pd\n",
    "import math\n",
    "\n",
    "# Funktion zur Berechnung der euklidischen Distanz zwischen zwei Punkten\n",
    "def calculate_distance(x1, y1, x2, y2):\n",
    "    return math.sqrt((x2 - x1) ** 2 + (y2 - y1) ** 2)\n",
    "\n",
    "# Pfad zur CSV-Datei\n",
    "csv_file_path = 'stationen_ba.csv'\n",
    "\n",
    "# Einlesen der CSV-Datei\n",
    "df = pd.read_csv(csv_file_path, sep=\";\")\n",
    "\n",
    "# Berechnen der Distanzen zwischen den aufeinander folgenden Koordinaten\n",
    "distances = []\n",
    "\n",
    "for i in range(len(df) - 1):\n",
    "    x1, y1 = df.loc[i, 'x'], df.loc[i, 'y']\n",
    "    x2, y2 = df.loc[i + 1, 'x'], df.loc[i + 1, 'y']\n",
    "    distance = calculate_distance(x1, y1, x2, y2)\n",
    "    distances.append(distance)\n",
    "\n",
    "# Füge die letzte Distanz als NaN hinzu, da es keinen nächsten Punkt gibt\n",
    "distances.append(float('nan'))\n",
    "\n",
    "# Schreibe die Distanzen in die Spalte 'distanceToNextNode'\n",
    "df['distanceToNextNode'] = distances\n",
    "\n",
    "# Speichern der aktualisierten CSV-Datei\n",
    "df.to_csv(csv_file_path, sep=\";\", index=False)\n",
    "\n",
    "print(\"Distanzen berechnet und in die Spalte 'distanceToNextNode' geschrieben.\")\n"
   ]
  },
  {
   "cell_type": "code",
   "execution_count": null,
   "id": "6b2e9e04-f900-404c-8e1e-6e7f89849d02",
   "metadata": {},
   "outputs": [],
   "source": []
  }
 ],
 "metadata": {
  "kernelspec": {
   "display_name": "Python 3 (ipykernel)",
   "language": "python",
   "name": "python3"
  },
  "language_info": {
   "codemirror_mode": {
    "name": "ipython",
    "version": 3
   },
   "file_extension": ".py",
   "mimetype": "text/x-python",
   "name": "python",
   "nbconvert_exporter": "python",
   "pygments_lexer": "ipython3",
   "version": "3.11.5"
  }
 },
 "nbformat": 4,
 "nbformat_minor": 5
}
